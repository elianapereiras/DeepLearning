{
  "nbformat": 4,
  "nbformat_minor": 0,
  "metadata": {
    "colab": {
      "name": "Mascara.ipynb",
      "provenance": [],
      "collapsed_sections": [],
      "authorship_tag": "ABX9TyNOTHy+S151aTRN3uJdwXta",
      "include_colab_link": true
    },
    "kernelspec": {
      "name": "python3",
      "display_name": "Python 3"
    },
    "accelerator": "GPU"
  },
  "cells": [
    {
      "cell_type": "markdown",
      "metadata": {
        "id": "view-in-github",
        "colab_type": "text"
      },
      "source": [
        "<a href=\"https://colab.research.google.com/github/elianapereiras/DeepLearning/blob/main/Mascara.ipynb\" target=\"_parent\"><img src=\"https://colab.research.google.com/assets/colab-badge.svg\" alt=\"Open In Colab\"/></a>"
      ]
    },
    {
      "cell_type": "code",
      "metadata": {
        "colab": {
          "base_uri": "https://localhost:8080/"
        },
        "id": "qC8KurCvhr8T",
        "outputId": "4050b96e-87ac-4851-ea9a-b70e4beb129f"
      },
      "source": [
        "#PASSO 1:\r\n",
        "from google.colab import drive\r\n",
        "drive.mount('/content/gdrive')\r\n",
        "\r\n"
      ],
      "execution_count": 1,
      "outputs": [
        {
          "output_type": "stream",
          "text": [
            "Mounted at /content/gdrive\n"
          ],
          "name": "stdout"
        }
      ]
    },
    {
      "cell_type": "code",
      "metadata": {
        "id": "SdMcZHtPvETt"
      },
      "source": [
        "#PASSO 2: CRIAR ÁRVORE\r\n",
        "!sudo apt-get install tree\r\n",
        "%cd /content/"
      ],
      "execution_count": null,
      "outputs": []
    },
    {
      "cell_type": "code",
      "metadata": {
        "id": "rn7o3KJovX-J"
      },
      "source": [
        "#PASSO 3: CLONAR e apagar arq Makefile\r\n",
        "!git clone https://github.com/roboflow-ai/darknet.git\r\n",
        "%cd /content/darknet/\r\n",
        "%rm Makefile"
      ],
      "execution_count": null,
      "outputs": []
    },
    {
      "cell_type": "code",
      "metadata": {
        "colab": {
          "base_uri": "https://localhost:8080/"
        },
        "id": "UJ0GyuNVwLxz",
        "outputId": "5d27b897-36ea-4066-80d1-a2a2d1a57fe3"
      },
      "source": [
        "\r\n",
        "#PASSO 6: cONFIG. DO GPU E CUDDA\r\n",
        "\r\n",
        "#colab occasionally shifts dependencies around, at the time of authorship, this Makefile works for building Darknet on Colab\r\n",
        "\r\n",
        "%%writefile Makefile\r\n",
        "GPU=1\r\n",
        "CUDNN=1\r\n",
        "CUDNN_HALF=0\r\n",
        "OPENCV=1\r\n",
        "AVX=0\r\n",
        "OPENMP=0\r\n",
        "LIBSO=1\r\n",
        "ZED_CAMERA=0\r\n",
        "ZED_CAMERA_v2_8=0\r\n",
        "\r\n",
        "# set GPU=1 and CUDNN=1 to speedup on GPU\r\n",
        "# set CUDNN_HALF=1 to further speedup 3 x times (Mixed-precision on Tensor Cores) GPU: Volta, Xavier, Turing and higher\r\n",
        "# set AVX=1 and OPENMP=1 to speedup on CPU (if error occurs then set AVX=0)\r\n",
        "# set ZED_CAMERA=1 to enable ZED SDK 3.0 and above\r\n",
        "# set ZED_CAMERA_v2_8=1 to enable ZED SDK 2.X\r\n",
        "\r\n",
        "USE_CPP=0\r\n",
        "DEBUG=0\r\n",
        "\r\n",
        "ARCH= -gencode arch=compute_30,code=sm_30 \\\r\n",
        "      -gencode arch=compute_35,code=sm_35 \\\r\n",
        "      -gencode arch=compute_50,code=[sm_50,compute_50] \\\r\n",
        "      -gencode arch=compute_52,code=[sm_52,compute_52] \\\r\n",
        "\t    -gencode arch=compute_61,code=[sm_61,compute_61]\r\n",
        "\r\n",
        "OS := $(shell uname)\r\n",
        "\r\n",
        "# Tesla V100\r\n",
        "# ARCH= -gencode arch=compute_70,code=[sm_70,compute_70]\r\n",
        "\r\n",
        "# GeForce RTX 2080 Ti, RTX 2080, RTX 2070, Quadro RTX 8000, Quadro RTX 6000, Quadro RTX 5000, Tesla T4, XNOR Tensor Cores\r\n",
        "# ARCH= -gencode arch=compute_75,code=[sm_75,compute_75]\r\n",
        "\r\n",
        "# Jetson XAVIER\r\n",
        "# ARCH= -gencode arch=compute_72,code=[sm_72,compute_72]\r\n",
        "\r\n",
        "# GTX 1080, GTX 1070, GTX 1060, GTX 1050, GTX 1030, Titan Xp, Tesla P40, Tesla P4\r\n",
        "# ARCH= -gencode arch=compute_61,code=sm_61 -gencode arch=compute_61,code=compute_61\r\n",
        "\r\n",
        "# GP100/Tesla P100 - DGX-1\r\n",
        "# ARCH= -gencode arch=compute_60,code=sm_60\r\n",
        "\r\n",
        "# For Jetson TX1, Tegra X1, DRIVE CX, DRIVE PX - uncomment:\r\n",
        "# ARCH= -gencode arch=compute_53,code=[sm_53,compute_53]\r\n",
        "\r\n",
        "# For Jetson Tx2 or Drive-PX2 uncomment:\r\n",
        "# ARCH= -gencode arch=compute_62,code=[sm_62,compute_62]\r\n",
        "\r\n",
        "\r\n",
        "VPATH=./src/\r\n",
        "EXEC=darknet\r\n",
        "OBJDIR=./obj/\r\n",
        "\r\n",
        "ifeq ($(LIBSO), 1)\r\n",
        "LIBNAMESO=libdarknet.so\r\n",
        "APPNAMESO=uselib\r\n",
        "endif\r\n",
        "\r\n",
        "ifeq ($(USE_CPP), 1)\r\n",
        "CC=g++\r\n",
        "else\r\n",
        "CC=gcc\r\n",
        "endif\r\n",
        "\r\n",
        "CPP=g++ -std=c++11\r\n",
        "NVCC=nvcc\r\n",
        "OPTS=-Ofast\r\n",
        "LDFLAGS= -lm -pthread\r\n",
        "COMMON= -Iinclude/ -I3rdparty/stb/include\r\n",
        "CFLAGS=-Wall -Wfatal-errors -Wno-unused-result -Wno-unknown-pragmas -fPIC\r\n",
        "\r\n",
        "ifeq ($(DEBUG), 1)\r\n",
        "#OPTS= -O0 -g\r\n",
        "#OPTS= -Og -g\r\n",
        "COMMON+= -DDEBUG\r\n",
        "CFLAGS+= -DDEBUG\r\n",
        "else\r\n",
        "ifeq ($(AVX), 1)\r\n",
        "CFLAGS+= -ffp-contract=fast -mavx -mavx2 -msse3 -msse4.1 -msse4.2 -msse4a\r\n",
        "endif\r\n",
        "endif\r\n",
        "\r\n",
        "CFLAGS+=$(OPTS)\r\n",
        "\r\n",
        "ifneq (,$(findstring MSYS_NT,$(OS)))\r\n",
        "LDFLAGS+=-lws2_32\r\n",
        "endif\r\n",
        "\r\n",
        "ifeq ($(OPENCV), 1)\r\n",
        "COMMON+= -DOPENCV\r\n",
        "CFLAGS+= -DOPENCV\r\n",
        "LDFLAGS+= `pkg-config --libs opencv4 2> /dev/null || pkg-config --libs opencv`\r\n",
        "COMMON+= `pkg-config --cflags opencv4 2> /dev/null || pkg-config --cflags opencv`\r\n",
        "endif\r\n",
        "\r\n",
        "ifeq ($(OPENMP), 1)\r\n",
        "CFLAGS+= -fopenmp\r\n",
        "LDFLAGS+= -lgomp\r\n",
        "endif\r\n",
        "\r\n",
        "ifeq ($(GPU), 1)\r\n",
        "COMMON+= -DGPU -I/usr/local/cuda/include/\r\n",
        "CFLAGS+= -DGPU\r\n",
        "ifeq ($(OS),Darwin) #MAC\r\n",
        "LDFLAGS+= -L/usr/local/cuda/lib -lcuda -lcudart -lcublas -lcurand\r\n",
        "else\r\n",
        "LDFLAGS+= -L/usr/local/cuda/lib64 -lcuda -lcudart -lcublas -lcurand\r\n",
        "endif\r\n",
        "endif\r\n",
        "\r\n",
        "ifeq ($(CUDNN), 1)\r\n",
        "COMMON+= -DCUDNN\r\n",
        "ifeq ($(OS),Darwin) #MAC\r\n",
        "CFLAGS+= -DCUDNN -I/usr/local/cuda/include\r\n",
        "LDFLAGS+= -L/usr/local/cuda/lib -lcudnn\r\n",
        "else\r\n",
        "CFLAGS+= -DCUDNN -I/usr/local/cudnn/include\r\n",
        "LDFLAGS+= -L/usr/local/cudnn/lib64 -lcudnn\r\n",
        "endif\r\n",
        "endif\r\n",
        "\r\n",
        "ifeq ($(CUDNN_HALF), 1)\r\n",
        "COMMON+= -DCUDNN_HALF\r\n",
        "CFLAGS+= -DCUDNN_HALF\r\n",
        "ARCH+= -gencode arch=compute_70,code=[sm_70,compute_70]\r\n",
        "endif\r\n",
        "\r\n",
        "ifeq ($(ZED_CAMERA), 1)\r\n",
        "CFLAGS+= -DZED_STEREO -I/usr/local/zed/include\r\n",
        "ifeq ($(ZED_CAMERA_v2_8), 1)\r\n",
        "LDFLAGS+= -L/usr/local/zed/lib -lsl_core -lsl_input -lsl_zed\r\n",
        "#-lstdc++ -D_GLIBCXX_USE_CXX11_ABI=0\r\n",
        "else\r\n",
        "LDFLAGS+= -L/usr/local/zed/lib -lsl_zed\r\n",
        "#-lstdc++ -D_GLIBCXX_USE_CXX11_ABI=0\r\n",
        "endif\r\n",
        "endif\r\n",
        "\r\n",
        "OBJ=image_opencv.o http_stream.o gemm.o utils.o dark_cuda.o convolutional_layer.o list.o image.o activations.o im2col.o col2im.o blas.o crop_layer.o dropout_layer.o maxpool_layer.o softmax_layer.o data.o matrix.o network.o connected_layer.o cost_layer.o parser.o option_list.o darknet.o detection_layer.o captcha.o route_layer.o writing.o box.o nightmare.o normalization_layer.o avgpool_layer.o coco.o dice.o yolo.o detector.o layer.o compare.o classifier.o local_layer.o swag.o shortcut_layer.o activation_layer.o rnn_layer.o gru_layer.o rnn.o rnn_vid.o crnn_layer.o demo.o tag.o cifar.o go.o batchnorm_layer.o art.o region_layer.o reorg_layer.o reorg_old_layer.o super.o voxel.o tree.o yolo_layer.o gaussian_yolo_layer.o upsample_layer.o lstm_layer.o conv_lstm_layer.o scale_channels_layer.o sam_layer.o\r\n",
        "ifeq ($(GPU), 1)\r\n",
        "LDFLAGS+= -lstdc++\r\n",
        "OBJ+=convolutional_kernels.o activation_kernels.o im2col_kernels.o col2im_kernels.o blas_kernels.o crop_layer_kernels.o dropout_layer_kernels.o maxpool_layer_kernels.o network_kernels.o avgpool_layer_kernels.o\r\n",
        "endif\r\n",
        "\r\n",
        "OBJS = $(addprefix $(OBJDIR), $(OBJ))\r\n",
        "DEPS = $(wildcard src/*.h) Makefile include/darknet.h\r\n",
        "\r\n",
        "all: $(OBJDIR) backup results setchmod $(EXEC) $(LIBNAMESO) $(APPNAMESO)\r\n",
        "\r\n",
        "ifeq ($(LIBSO), 1)\r\n",
        "CFLAGS+= -fPIC\r\n",
        "\r\n",
        "$(LIBNAMESO): $(OBJDIR) $(OBJS) include/yolo_v2_class.hpp src/yolo_v2_class.cpp\r\n",
        "\t$(CPP) -shared -std=c++11 -fvisibility=hidden -DLIB_EXPORTS $(COMMON) $(CFLAGS) $(OBJS) src/yolo_v2_class.cpp -o $@ $(LDFLAGS)\r\n",
        "\r\n",
        "$(APPNAMESO): $(LIBNAMESO) include/yolo_v2_class.hpp src/yolo_console_dll.cpp\r\n",
        "\t$(CPP) -std=c++11 $(COMMON) $(CFLAGS) -o $@ src/yolo_console_dll.cpp $(LDFLAGS) -L ./ -l:$(LIBNAMESO)\r\n",
        "endif\r\n",
        "\r\n",
        "$(EXEC): $(OBJS)\r\n",
        "\t$(CPP) -std=c++11 $(COMMON) $(CFLAGS) $^ -o $@ $(LDFLAGS)\r\n",
        "\r\n",
        "$(OBJDIR)%.o: %.c $(DEPS)\r\n",
        "\t$(CC) $(COMMON) $(CFLAGS) -c $< -o $@\r\n",
        "\r\n",
        "$(OBJDIR)%.o: %.cpp $(DEPS)\r\n",
        "\t$(CPP) -std=c++11 $(COMMON) $(CFLAGS) -c $< -o $@\r\n",
        "\r\n",
        "$(OBJDIR)%.o: %.cu $(DEPS)\r\n",
        "\t$(NVCC) $(ARCH) $(COMMON) --compiler-options \"$(CFLAGS)\" -c $< -o $@\r\n",
        "\r\n",
        "$(OBJDIR):\r\n",
        "\tmkdir -p $(OBJDIR)\r\n",
        "backup:\r\n",
        "\tmkdir -p backup\r\n",
        "results:\r\n",
        "\tmkdir -p results\r\n",
        "setchmod:\r\n",
        "\tchmod +x *.sh\r\n",
        "\r\n",
        ".PHONY: clean\r\n",
        "\r\n",
        "clean:\r\n",
        "\trm -rf $(OBJS) $(EXEC) $(LIBNAMESO) $(APPNAMESO)"
      ],
      "execution_count": 9,
      "outputs": [
        {
          "output_type": "stream",
          "text": [
            "Writing Makefile\n"
          ],
          "name": "stdout"
        }
      ]
    },
    {
      "cell_type": "code",
      "metadata": {
        "id": "9ECWHIH0_QxS"
      },
      "source": [
        "!make"
      ],
      "execution_count": null,
      "outputs": []
    },
    {
      "cell_type": "code",
      "metadata": {
        "id": "3RIeh6bsye1l"
      },
      "source": [
        " # PASSO 8: baixar os pesos pré-treinados \r\n",
        "%cd /content/darknet\r\n",
        "!wget https://github.com/AlexeyAB/darknet/releases/download/darknet_yolo_v3_optimal/yolov4.conv.137\r\n",
        "\r\n"
      ],
      "execution_count": null,
      "outputs": []
    },
    {
      "cell_type": "code",
      "metadata": {
        "id": "eVSe5uHJyutB"
      },
      "source": [
        "#PASSO 9:VINCULAR O DATASET\r\n",
        "\r\n",
        "%cd /content/darknet\r\n",
        "!curl -L \"https://app.roboflow.com/ds/5jJzoT9jaQ?key=kbzmVMpTGI\" > roboflow.zip; unzip roboflow.zip; rm roboflow.zip"
      ],
      "execution_count": null,
      "outputs": []
    },
    {
      "cell_type": "code",
      "metadata": {
        "colab": {
          "base_uri": "https://localhost:8080/"
        },
        "id": "B5gend4By3rL",
        "outputId": "c04a853f-607e-4406-c8eb-c5dbeca7dc8a"
      },
      "source": [
        "# PASSO 10: configurar diretório para treinar\r\n",
        "#Set up training file directories for custom dataset\r\n",
        "\r\n",
        "%cd /content/darknet/\r\n",
        "%cp train/_darknet.labels data/obj.names\r\n",
        "%mkdir data/obj\r\n",
        "#copy image and labels\r\n",
        "%cp train/*.jpg data/obj/\r\n",
        "%cp valid/*.jpg data/obj/\r\n",
        "\r\n",
        "%cp train/*.txt data/obj/\r\n",
        "%cp valid/*.txt data/obj/\r\n",
        "\r\n",
        "with open('data/obj.data', 'w') as out:\r\n",
        "  out.write('classes = 3\\n')\r\n",
        "  out.write('train = data/train.txt\\n')\r\n",
        "  out.write('valid = data/valid.txt\\n')\r\n",
        "  out.write('names = data/obj.names\\n')\r\n",
        "  out.write('backup = backup/')\r\n",
        "\r\n",
        "#write train file (just the image list)\r\n",
        "import os\r\n",
        "\r\n",
        "with open('data/train.txt', 'w') as out:\r\n",
        "  for img in [f for f in os.listdir('train') if f.endswith('jpg')]:\r\n",
        "    out.write('data/obj/' + img + '\\n')\r\n",
        "\r\n",
        "#write the valid file (just the image list)\r\n",
        "import os\r\n",
        "\r\n",
        "with open('data/valid.txt', 'w') as out:\r\n",
        "  for img in [f for f in os.listdir('valid') if f.endswith('jpg')]:\r\n",
        "    out.write('data/obj/' + img + '\\n')\r\n",
        "\r\n",
        "#PASSO 11: Write Custom Training Config for YOLOv4\r\n",
        "#we build config dynamically based on number of classes\r\n",
        "#we build iteratively from base config files. This is the same file shape as cfg/yolo-obj.cfg\r\n",
        "def file_len(fname):\r\n",
        "  with open(fname) as f:\r\n",
        "    for i, l in enumerate(f):\r\n",
        "      pass\r\n",
        "  return i + 1\r\n",
        "\r\n",
        "num_classes = file_len('train/_darknet.labels')\r\n",
        "print(\"writing config for a custom YOLOv4 detector detecting number of classes: \" + str(num_classes))\r\n",
        "\r\n",
        "#Instructions from the darknet repo\r\n",
        "#change line max_batches to (classes*2000 but not less than number of training images, and not less than 6000), f.e. max_batches=6000 if you train for 3 classes\r\n",
        "#change line steps to 80% and 90% of max_batches, f.e. steps=4800,5400\r\n",
        "import os\r\n",
        "if os.path.exists('./cfg/custom-yolov4-detector.cfg'): os.remove('./cfg/custom-yolov4-detector.cfg')\r\n",
        "\r\n",
        "\r\n",
        "with open('./cfg/custom-yolov4-detector.cfg', 'a') as f:\r\n",
        "  f.write('[net]' + '\\n')\r\n",
        "  f.write('batch=64' + '\\n')\r\n",
        "  #####smaller subdivisions help the GPU run faster. 12 is optimal, but you might need to change to 24,36,64####\r\n",
        "  f.write('subdivisions=24' + '\\n')\r\n",
        "  f.write('width=416' + '\\n')\r\n",
        "  f.write('height=416' + '\\n')\r\n",
        "  f.write('channels=3' + '\\n')\r\n",
        "  f.write('momentum=0.949' + '\\n')\r\n",
        "  f.write('decay=0.0005' + '\\n')\r\n",
        "  f.write('angle=0' + '\\n')\r\n",
        "  f.write('saturation = 1.5' + '\\n')\r\n",
        "  f.write('exposure = 1.5' + '\\n')\r\n",
        "  f.write('hue = .1' + '\\n')\r\n",
        "  f.write('\\n')\r\n",
        "  f.write('learning_rate=0.001' + '\\n')\r\n",
        "  f.write('burn_in=1000' + '\\n')\r\n",
        "  ######you can adjust up and down to change training time#####\r\n",
        "  ##Darknet does iterations with batches, not epochs####\r\n",
        "  max_batches = num_classes*1000\r\n",
        "  #max_batches = 2000\r\n",
        "  f.write('max_batches=' + str(max_batches) + '\\n')\r\n",
        "  f.write('policy=steps' + '\\n')\r\n",
        "  steps1 = .8 * max_batches\r\n",
        "  steps2 = .9 * max_batches\r\n",
        "  f.write('steps='+str(steps1)+','+str(steps2) + '\\n')\r\n",
        "\r\n",
        "#Instructions from the darknet repo\r\n",
        "#change line classes=80 to your number of objects in each of 3 [yolo]-layers:\r\n",
        "#change [filters=255] to filters=(classes + 5)x3 in the 3 [convolutional] before each [yolo] layer, keep in mind that it only has to be the last [convolutional] before each of the [yolo] layers.\r\n",
        "\r\n",
        "  with open('cfg/yolov4-custom2.cfg', 'r') as f2:\r\n",
        "    content = f2.readlines()\r\n",
        "    for line in content:\r\n",
        "      f.write(line)    \r\n",
        "    num_filters = (num_classes + 5) * 3\r\n",
        "    f.write('filters='+str(num_filters) + '\\n')\r\n",
        "    f.write('activation=linear')\r\n",
        "    f.write('\\n')\r\n",
        "    f.write('\\n')\r\n",
        "    f.write('[yolo]' + '\\n')\r\n",
        "    f.write('mask = 0,1,2' + '\\n')\r\n",
        "    f.write('anchors = 12, 16, 19, 36, 40, 28, 36, 75, 76, 55, 72, 146, 142, 110, 192, 243, 459, 401' + '\\n')\r\n",
        "    f.write('classes=' + str(num_classes) + '\\n')\r\n",
        "\r\n",
        "  with open('cfg/yolov4-custom3.cfg', 'r') as f3:\r\n",
        "    content = f3.readlines()\r\n",
        "    for line in content:\r\n",
        "      f.write(line)    \r\n",
        "    num_filters = (num_classes + 5) * 3\r\n",
        "    f.write('filters='+str(num_filters) + '\\n')\r\n",
        "    f.write('activation=linear')\r\n",
        "    f.write('\\n')\r\n",
        "    f.write('\\n')\r\n",
        "    f.write('[yolo]' + '\\n')\r\n",
        "    f.write('mask = 3,4,5' + '\\n')\r\n",
        "    f.write('anchors = 12, 16, 19, 36, 40, 28, 36, 75, 76, 55, 72, 146, 142, 110, 192, 243, 459, 401' + '\\n')\r\n",
        "    f.write('classes=' + str(num_classes) + '\\n')\r\n",
        "\r\n",
        "  with open('cfg/yolov4-custom4.cfg', 'r') as f4:\r\n",
        "    content = f4.readlines()\r\n",
        "    for line in content:\r\n",
        "      f.write(line)    \r\n",
        "    num_filters = (num_classes + 5) * 3\r\n",
        "    f.write('filters='+str(num_filters) + '\\n')\r\n",
        "    f.write('activation=linear')\r\n",
        "    f.write('\\n')\r\n",
        "    f.write('\\n')\r\n",
        "    f.write('[yolo]' + '\\n')\r\n",
        "    f.write('mask = 6,7,8' + '\\n')\r\n",
        "    f.write('anchors = 12, 16, 19, 36, 40, 28, 36, 75, 76, 55, 72, 146, 142, 110, 192, 243, 459, 401' + '\\n')\r\n",
        "    f.write('classes=' + str(num_classes) + '\\n')\r\n",
        "    \r\n",
        "  with open('cfg/yolov4-custom5.cfg', 'r') as f5:\r\n",
        "    content = f5.readlines()\r\n",
        "    for line in content:\r\n",
        "      f.write(line)\r\n",
        "\r\n",
        "print(\"file is written!\")    \r\n"
      ],
      "execution_count": 13,
      "outputs": [
        {
          "output_type": "stream",
          "text": [
            "/content/darknet\n",
            "writing config for a custom YOLOv4 detector detecting number of classes: 3\n",
            "file is written!\n"
          ],
          "name": "stdout"
        }
      ]
    },
    {
      "cell_type": "code",
      "metadata": {
        "id": "a_SVjRuCzEHm"
      },
      "source": [
        "#PASSO 12: convolução\r\n",
        "#here is the file that was just written. \r\n",
        "#you may consider adjusting certain things\r\n",
        "\r\n",
        "#like the number of subdivisions 64 runs faster but Colab GPU may not be big enough\r\n",
        "#if Colab GPU memory is too small, you will need to adjust subdivisions to 16\r\n",
        "%cat cfg/custom-yolov4-detector.cfg"
      ],
      "execution_count": null,
      "outputs": []
    },
    {
      "cell_type": "code",
      "metadata": {
        "id": "pdBqYQ_szpcv"
      },
      "source": [
        "#PASSO 13: Treino (após ajustes finais demorou 3,5hs)\r\n",
        "#!./darknet detector train data/obj.data cfg/custom-yolov4-detector.cfg yolov4.conv.137 -dont_show -map\r\n",
        "#copiar o pesos treinados \r\n",
        "%cp /content/gdrive/MyDrive/YOLO/custom-yolov4-detector_last.weights ./backup\r\n"
      ],
      "execution_count": 15,
      "outputs": []
    },
    {
      "cell_type": "code",
      "metadata": {
        "id": "K18_fViKAX8g"
      },
      "source": [
        "\r\n",
        "#PASSO 14: INFERIR\r\n",
        "#define utility function\r\n",
        "def imShow(path):\r\n",
        "  import cv2\r\n",
        "  import matplotlib.pyplot as plt\r\n",
        "  %matplotlib inline\r\n",
        "\r\n",
        "  image = cv2.imread(path)\r\n",
        "  height, width = image.shape[:2]\r\n",
        "  resized_image = cv2.resize(image,(3*width, 3*height), interpolation = cv2.INTER_CUBIC)\r\n",
        "\r\n",
        "  fig = plt.gcf()\r\n",
        "  fig.set_size_inches(18, 10)\r\n",
        "  plt.axis(\"off\")\r\n",
        "  #plt.rcParams['figure.figsize'] = [10, 5]\r\n",
        "  plt.imshow(cv2.cvtColor(resized_image, cv2.COLOR_BGR2RGB))\r\n",
        "  plt.show()\r\n"
      ],
      "execution_count": 16,
      "outputs": []
    },
    {
      "cell_type": "code",
      "metadata": {
        "colab": {
          "base_uri": "https://localhost:8080/"
        },
        "id": "WTqt8R9139Wr",
        "outputId": "42b3ef1b-2030-4204-dcfc-7b37f4176109"
      },
      "source": [
        "#Passo : lista diretório e copiar rótulos\r\n",
        "!ls backup\r\n",
        "!cp data/obj.names data/coco.names"
      ],
      "execution_count": 17,
      "outputs": [
        {
          "output_type": "stream",
          "text": [
            "custom-yolov4-detector_last.weights\n"
          ],
          "name": "stdout"
        }
      ]
    },
    {
      "cell_type": "code",
      "metadata": {
        "id": "fzxLuFtFxB9I"
      },
      "source": [
        "# PASSO 7:  \r\n",
        " #download e upload files\r\n",
        "def imShow(path):\r\n",
        "  import cv2\r\n",
        "  import matplotlib.pyplot as plt\r\n",
        "  %matplotlib inline\r\n",
        "\r\n",
        "  image = cv2.imread(path)\r\n",
        "  height, width = image.shape[:2]\r\n",
        "  resized_image = cv2.resize(image,(3*width, 3*height), interpolation = cv2.INTER_CUBIC)\r\n",
        "\r\n",
        "  fig = plt.gcf()\r\n",
        "  fig.set_size_inches(18, 10)\r\n",
        "  plt.axis(\"off\")\r\n",
        "  #plt.rcParams['figure.figsize'] = [10, 5]\r\n",
        "  plt.imshow(cv2.cvtColor(resized_image, cv2.COLOR_BGR2RGB))\r\n",
        "  plt.show()\r\n",
        "  \r\n",
        "  \r\n",
        "def upload():\r\n",
        "  from google.colab import files\r\n",
        "  uploaded = files.upload() \r\n",
        "  for name, data in uploaded.items():\r\n",
        "    with open(name, 'wb') as f:\r\n",
        "      f.write(data)\r\n",
        "      print ('saved file', name)\r\n",
        "def download(path):\r\n",
        "  from google.colab import files\r\n",
        "  files.download(path)\r\n"
      ],
      "execution_count": 24,
      "outputs": []
    },
    {
      "cell_type": "code",
      "metadata": {
        "colab": {
          "resources": {
            "http://localhost:8080/nbextensions/google.colab/files.js": {
              "data": "Ly8gQ29weXJpZ2h0IDIwMTcgR29vZ2xlIExMQwovLwovLyBMaWNlbnNlZCB1bmRlciB0aGUgQXBhY2hlIExpY2Vuc2UsIFZlcnNpb24gMi4wICh0aGUgIkxpY2Vuc2UiKTsKLy8geW91IG1heSBub3QgdXNlIHRoaXMgZmlsZSBleGNlcHQgaW4gY29tcGxpYW5jZSB3aXRoIHRoZSBMaWNlbnNlLgovLyBZb3UgbWF5IG9idGFpbiBhIGNvcHkgb2YgdGhlIExpY2Vuc2UgYXQKLy8KLy8gICAgICBodHRwOi8vd3d3LmFwYWNoZS5vcmcvbGljZW5zZXMvTElDRU5TRS0yLjAKLy8KLy8gVW5sZXNzIHJlcXVpcmVkIGJ5IGFwcGxpY2FibGUgbGF3IG9yIGFncmVlZCB0byBpbiB3cml0aW5nLCBzb2Z0d2FyZQovLyBkaXN0cmlidXRlZCB1bmRlciB0aGUgTGljZW5zZSBpcyBkaXN0cmlidXRlZCBvbiBhbiAiQVMgSVMiIEJBU0lTLAovLyBXSVRIT1VUIFdBUlJBTlRJRVMgT1IgQ09ORElUSU9OUyBPRiBBTlkgS0lORCwgZWl0aGVyIGV4cHJlc3Mgb3IgaW1wbGllZC4KLy8gU2VlIHRoZSBMaWNlbnNlIGZvciB0aGUgc3BlY2lmaWMgbGFuZ3VhZ2UgZ292ZXJuaW5nIHBlcm1pc3Npb25zIGFuZAovLyBsaW1pdGF0aW9ucyB1bmRlciB0aGUgTGljZW5zZS4KCi8qKgogKiBAZmlsZW92ZXJ2aWV3IEhlbHBlcnMgZm9yIGdvb2dsZS5jb2xhYiBQeXRob24gbW9kdWxlLgogKi8KKGZ1bmN0aW9uKHNjb3BlKSB7CmZ1bmN0aW9uIHNwYW4odGV4dCwgc3R5bGVBdHRyaWJ1dGVzID0ge30pIHsKICBjb25zdCBlbGVtZW50ID0gZG9jdW1lbnQuY3JlYXRlRWxlbWVudCgnc3BhbicpOwogIGVsZW1lbnQudGV4dENvbnRlbnQgPSB0ZXh0OwogIGZvciAoY29uc3Qga2V5IG9mIE9iamVjdC5rZXlzKHN0eWxlQXR0cmlidXRlcykpIHsKICAgIGVsZW1lbnQuc3R5bGVba2V5XSA9IHN0eWxlQXR0cmlidXRlc1trZXldOwogIH0KICByZXR1cm4gZWxlbWVudDsKfQoKLy8gTWF4IG51bWJlciBvZiBieXRlcyB3aGljaCB3aWxsIGJlIHVwbG9hZGVkIGF0IGEgdGltZS4KY29uc3QgTUFYX1BBWUxPQURfU0laRSA9IDEwMCAqIDEwMjQ7CgpmdW5jdGlvbiBfdXBsb2FkRmlsZXMoaW5wdXRJZCwgb3V0cHV0SWQpIHsKICBjb25zdCBzdGVwcyA9IHVwbG9hZEZpbGVzU3RlcChpbnB1dElkLCBvdXRwdXRJZCk7CiAgY29uc3Qgb3V0cHV0RWxlbWVudCA9IGRvY3VtZW50LmdldEVsZW1lbnRCeUlkKG91dHB1dElkKTsKICAvLyBDYWNoZSBzdGVwcyBvbiB0aGUgb3V0cHV0RWxlbWVudCB0byBtYWtlIGl0IGF2YWlsYWJsZSBmb3IgdGhlIG5leHQgY2FsbAogIC8vIHRvIHVwbG9hZEZpbGVzQ29udGludWUgZnJvbSBQeXRob24uCiAgb3V0cHV0RWxlbWVudC5zdGVwcyA9IHN0ZXBzOwoKICByZXR1cm4gX3VwbG9hZEZpbGVzQ29udGludWUob3V0cHV0SWQpOwp9CgovLyBUaGlzIGlzIHJvdWdobHkgYW4gYXN5bmMgZ2VuZXJhdG9yIChub3Qgc3VwcG9ydGVkIGluIHRoZSBicm93c2VyIHlldCksCi8vIHdoZXJlIHRoZXJlIGFyZSBtdWx0aXBsZSBhc3luY2hyb25vdXMgc3RlcHMgYW5kIHRoZSBQeXRob24gc2lkZSBpcyBnb2luZwovLyB0byBwb2xsIGZvciBjb21wbGV0aW9uIG9mIGVhY2ggc3RlcC4KLy8gVGhpcyB1c2VzIGEgUHJvbWlzZSB0byBibG9jayB0aGUgcHl0aG9uIHNpZGUgb24gY29tcGxldGlvbiBvZiBlYWNoIHN0ZXAsCi8vIHRoZW4gcGFzc2VzIHRoZSByZXN1bHQgb2YgdGhlIHByZXZpb3VzIHN0ZXAgYXMgdGhlIGlucHV0IHRvIHRoZSBuZXh0IHN0ZXAuCmZ1bmN0aW9uIF91cGxvYWRGaWxlc0NvbnRpbnVlKG91dHB1dElkKSB7CiAgY29uc3Qgb3V0cHV0RWxlbWVudCA9IGRvY3VtZW50LmdldEVsZW1lbnRCeUlkKG91dHB1dElkKTsKICBjb25zdCBzdGVwcyA9IG91dHB1dEVsZW1lbnQuc3RlcHM7CgogIGNvbnN0IG5leHQgPSBzdGVwcy5uZXh0KG91dHB1dEVsZW1lbnQubGFzdFByb21pc2VWYWx1ZSk7CiAgcmV0dXJuIFByb21pc2UucmVzb2x2ZShuZXh0LnZhbHVlLnByb21pc2UpLnRoZW4oKHZhbHVlKSA9PiB7CiAgICAvLyBDYWNoZSB0aGUgbGFzdCBwcm9taXNlIHZhbHVlIHRvIG1ha2UgaXQgYXZhaWxhYmxlIHRvIHRoZSBuZXh0CiAgICAvLyBzdGVwIG9mIHRoZSBnZW5lcmF0b3IuCiAgICBvdXRwdXRFbGVtZW50Lmxhc3RQcm9taXNlVmFsdWUgPSB2YWx1ZTsKICAgIHJldHVybiBuZXh0LnZhbHVlLnJlc3BvbnNlOwogIH0pOwp9CgovKioKICogR2VuZXJhdG9yIGZ1bmN0aW9uIHdoaWNoIGlzIGNhbGxlZCBiZXR3ZWVuIGVhY2ggYXN5bmMgc3RlcCBvZiB0aGUgdXBsb2FkCiAqIHByb2Nlc3MuCiAqIEBwYXJhbSB7c3RyaW5nfSBpbnB1dElkIEVsZW1lbnQgSUQgb2YgdGhlIGlucHV0IGZpbGUgcGlja2VyIGVsZW1lbnQuCiAqIEBwYXJhbSB7c3RyaW5nfSBvdXRwdXRJZCBFbGVtZW50IElEIG9mIHRoZSBvdXRwdXQgZGlzcGxheS4KICogQHJldHVybiB7IUl0ZXJhYmxlPCFPYmplY3Q+fSBJdGVyYWJsZSBvZiBuZXh0IHN0ZXBzLgogKi8KZnVuY3Rpb24qIHVwbG9hZEZpbGVzU3RlcChpbnB1dElkLCBvdXRwdXRJZCkgewogIGNvbnN0IGlucHV0RWxlbWVudCA9IGRvY3VtZW50LmdldEVsZW1lbnRCeUlkKGlucHV0SWQpOwogIGlucHV0RWxlbWVudC5kaXNhYmxlZCA9IGZhbHNlOwoKICBjb25zdCBvdXRwdXRFbGVtZW50ID0gZG9jdW1lbnQuZ2V0RWxlbWVudEJ5SWQob3V0cHV0SWQpOwogIG91dHB1dEVsZW1lbnQuaW5uZXJIVE1MID0gJyc7CgogIGNvbnN0IHBpY2tlZFByb21pc2UgPSBuZXcgUHJvbWlzZSgocmVzb2x2ZSkgPT4gewogICAgaW5wdXRFbGVtZW50LmFkZEV2ZW50TGlzdGVuZXIoJ2NoYW5nZScsIChlKSA9PiB7CiAgICAgIHJlc29sdmUoZS50YXJnZXQuZmlsZXMpOwogICAgfSk7CiAgfSk7CgogIGNvbnN0IGNhbmNlbCA9IGRvY3VtZW50LmNyZWF0ZUVsZW1lbnQoJ2J1dHRvbicpOwogIGlucHV0RWxlbWVudC5wYXJlbnRFbGVtZW50LmFwcGVuZENoaWxkKGNhbmNlbCk7CiAgY2FuY2VsLnRleHRDb250ZW50ID0gJ0NhbmNlbCB1cGxvYWQnOwogIGNvbnN0IGNhbmNlbFByb21pc2UgPSBuZXcgUHJvbWlzZSgocmVzb2x2ZSkgPT4gewogICAgY2FuY2VsLm9uY2xpY2sgPSAoKSA9PiB7CiAgICAgIHJlc29sdmUobnVsbCk7CiAgICB9OwogIH0pOwoKICAvLyBXYWl0IGZvciB0aGUgdXNlciB0byBwaWNrIHRoZSBmaWxlcy4KICBjb25zdCBmaWxlcyA9IHlpZWxkIHsKICAgIHByb21pc2U6IFByb21pc2UucmFjZShbcGlja2VkUHJvbWlzZSwgY2FuY2VsUHJvbWlzZV0pLAogICAgcmVzcG9uc2U6IHsKICAgICAgYWN0aW9uOiAnc3RhcnRpbmcnLAogICAgfQogIH07CgogIGNhbmNlbC5yZW1vdmUoKTsKCiAgLy8gRGlzYWJsZSB0aGUgaW5wdXQgZWxlbWVudCBzaW5jZSBmdXJ0aGVyIHBpY2tzIGFyZSBub3QgYWxsb3dlZC4KICBpbnB1dEVsZW1lbnQuZGlzYWJsZWQgPSB0cnVlOwoKICBpZiAoIWZpbGVzKSB7CiAgICByZXR1cm4gewogICAgICByZXNwb25zZTogewogICAgICAgIGFjdGlvbjogJ2NvbXBsZXRlJywKICAgICAgfQogICAgfTsKICB9CgogIGZvciAoY29uc3QgZmlsZSBvZiBmaWxlcykgewogICAgY29uc3QgbGkgPSBkb2N1bWVudC5jcmVhdGVFbGVtZW50KCdsaScpOwogICAgbGkuYXBwZW5kKHNwYW4oZmlsZS5uYW1lLCB7Zm9udFdlaWdodDogJ2JvbGQnfSkpOwogICAgbGkuYXBwZW5kKHNwYW4oCiAgICAgICAgYCgke2ZpbGUudHlwZSB8fCAnbi9hJ30pIC0gJHtmaWxlLnNpemV9IGJ5dGVzLCBgICsKICAgICAgICBgbGFzdCBtb2RpZmllZDogJHsKICAgICAgICAgICAgZmlsZS5sYXN0TW9kaWZpZWREYXRlID8gZmlsZS5sYXN0TW9kaWZpZWREYXRlLnRvTG9jYWxlRGF0ZVN0cmluZygpIDoKICAgICAgICAgICAgICAgICAgICAgICAgICAgICAgICAgICAgJ24vYSd9IC0gYCkpOwogICAgY29uc3QgcGVyY2VudCA9IHNwYW4oJzAlIGRvbmUnKTsKICAgIGxpLmFwcGVuZENoaWxkKHBlcmNlbnQpOwoKICAgIG91dHB1dEVsZW1lbnQuYXBwZW5kQ2hpbGQobGkpOwoKICAgIGNvbnN0IGZpbGVEYXRhUHJvbWlzZSA9IG5ldyBQcm9taXNlKChyZXNvbHZlKSA9PiB7CiAgICAgIGNvbnN0IHJlYWRlciA9IG5ldyBGaWxlUmVhZGVyKCk7CiAgICAgIHJlYWRlci5vbmxvYWQgPSAoZSkgPT4gewogICAgICAgIHJlc29sdmUoZS50YXJnZXQucmVzdWx0KTsKICAgICAgfTsKICAgICAgcmVhZGVyLnJlYWRBc0FycmF5QnVmZmVyKGZpbGUpOwogICAgfSk7CiAgICAvLyBXYWl0IGZvciB0aGUgZGF0YSB0byBiZSByZWFkeS4KICAgIGxldCBmaWxlRGF0YSA9IHlpZWxkIHsKICAgICAgcHJvbWlzZTogZmlsZURhdGFQcm9taXNlLAogICAgICByZXNwb25zZTogewogICAgICAgIGFjdGlvbjogJ2NvbnRpbnVlJywKICAgICAgfQogICAgfTsKCiAgICAvLyBVc2UgYSBjaHVua2VkIHNlbmRpbmcgdG8gYXZvaWQgbWVzc2FnZSBzaXplIGxpbWl0cy4gU2VlIGIvNjIxMTU2NjAuCiAgICBsZXQgcG9zaXRpb24gPSAwOwogICAgd2hpbGUgKHBvc2l0aW9uIDwgZmlsZURhdGEuYnl0ZUxlbmd0aCkgewogICAgICBjb25zdCBsZW5ndGggPSBNYXRoLm1pbihmaWxlRGF0YS5ieXRlTGVuZ3RoIC0gcG9zaXRpb24sIE1BWF9QQVlMT0FEX1NJWkUpOwogICAgICBjb25zdCBjaHVuayA9IG5ldyBVaW50OEFycmF5KGZpbGVEYXRhLCBwb3NpdGlvbiwgbGVuZ3RoKTsKICAgICAgcG9zaXRpb24gKz0gbGVuZ3RoOwoKICAgICAgY29uc3QgYmFzZTY0ID0gYnRvYShTdHJpbmcuZnJvbUNoYXJDb2RlLmFwcGx5KG51bGwsIGNodW5rKSk7CiAgICAgIHlpZWxkIHsKICAgICAgICByZXNwb25zZTogewogICAgICAgICAgYWN0aW9uOiAnYXBwZW5kJywKICAgICAgICAgIGZpbGU6IGZpbGUubmFtZSwKICAgICAgICAgIGRhdGE6IGJhc2U2NCwKICAgICAgICB9LAogICAgICB9OwogICAgICBwZXJjZW50LnRleHRDb250ZW50ID0KICAgICAgICAgIGAke01hdGgucm91bmQoKHBvc2l0aW9uIC8gZmlsZURhdGEuYnl0ZUxlbmd0aCkgKiAxMDApfSUgZG9uZWA7CiAgICB9CiAgfQoKICAvLyBBbGwgZG9uZS4KICB5aWVsZCB7CiAgICByZXNwb25zZTogewogICAgICBhY3Rpb246ICdjb21wbGV0ZScsCiAgICB9CiAgfTsKfQoKc2NvcGUuZ29vZ2xlID0gc2NvcGUuZ29vZ2xlIHx8IHt9OwpzY29wZS5nb29nbGUuY29sYWIgPSBzY29wZS5nb29nbGUuY29sYWIgfHwge307CnNjb3BlLmdvb2dsZS5jb2xhYi5fZmlsZXMgPSB7CiAgX3VwbG9hZEZpbGVzLAogIF91cGxvYWRGaWxlc0NvbnRpbnVlLAp9Owp9KShzZWxmKTsK",
              "ok": true,
              "headers": [
                [
                  "content-type",
                  "application/javascript"
                ]
              ],
              "status": 200,
              "status_text": ""
            }
          },
          "base_uri": "https://localhost:8080/",
          "height": 89
        },
        "id": "zsHqAej-FIgm",
        "outputId": "4d593b37-5ddf-47ea-ae76-adca656502bb"
      },
      "source": [
        "upload()"
      ],
      "execution_count": 28,
      "outputs": [
        {
          "output_type": "display_data",
          "data": {
            "text/html": [
              "\n",
              "     <input type=\"file\" id=\"files-e2046ccb-3d99-4678-8130-adbf6dad1683\" name=\"files[]\" multiple disabled\n",
              "        style=\"border:none\" />\n",
              "     <output id=\"result-e2046ccb-3d99-4678-8130-adbf6dad1683\">\n",
              "      Upload widget is only available when the cell has been executed in the\n",
              "      current browser session. Please rerun this cell to enable.\n",
              "      </output>\n",
              "      <script src=\"/nbextensions/google.colab/files.js\"></script> "
            ],
            "text/plain": [
              "<IPython.core.display.HTML object>"
            ]
          },
          "metadata": {
            "tags": []
          }
        },
        {
          "output_type": "stream",
          "text": [
            "Saving clube1.mp4 to clube1.mp4\n",
            "saved file clube1.mp4\n"
          ],
          "name": "stdout"
        }
      ]
    },
    {
      "cell_type": "code",
      "metadata": {
        "id": "4osQ2JqQ4IMB"
      },
      "source": [
        "# Teste com imagens\r\n",
        "#/test has images that we can test our detector on\r\n",
        "test_images = [f for f in os.listdir('valid') if f.endswith('.jpg')]\r\n",
        "import random\r\n",
        "img_path = \"valid/\" + random.choice(test_images);\r\n",
        "print(img_path)\r\n",
        "#test out our detector!\r\n",
        "!./darknet detect cfg/custom-yolov4-detector.cfg backup/custom-yolov4-detector_last.weights {img_path} -dont-show\r\n",
        "imShow('predictions.jpg')"
      ],
      "execution_count": null,
      "outputs": []
    },
    {
      "cell_type": "code",
      "metadata": {
        "id": "-g5CVDxJD6SU"
      },
      "source": [
        "# Teste com vídeos\r\n",
        "!./darknet detector demo data/obj.data cfg/custom-yolov4-detector.cfg backup/custom-yolov4-detector_last.weights -dont_show /content/gdrive/MyDrive/clube1.mp4 -i 0 -out_filename results.avi\r\n"
      ],
      "execution_count": null,
      "outputs": []
    },
    {
      "cell_type": "code",
      "metadata": {
        "colab": {
          "base_uri": "https://localhost:8080/",
          "height": 17
        },
        "id": "ocqgmLbyD6_i",
        "outputId": "fc67b99a-bd30-44d2-fa51-4843c65ed33f"
      },
      "source": [
        "#baixar vídeo contendo resultado da detecção\r\n",
        "download('results.avi')\r\n"
      ],
      "execution_count": 27,
      "outputs": [
        {
          "output_type": "display_data",
          "data": {
            "application/javascript": [
              "\n",
              "    async function download(id, filename, size) {\n",
              "      if (!google.colab.kernel.accessAllowed) {\n",
              "        return;\n",
              "      }\n",
              "      const div = document.createElement('div');\n",
              "      const label = document.createElement('label');\n",
              "      label.textContent = `Downloading \"${filename}\": `;\n",
              "      div.appendChild(label);\n",
              "      const progress = document.createElement('progress');\n",
              "      progress.max = size;\n",
              "      div.appendChild(progress);\n",
              "      document.body.appendChild(div);\n",
              "\n",
              "      const buffers = [];\n",
              "      let downloaded = 0;\n",
              "\n",
              "      const channel = await google.colab.kernel.comms.open(id);\n",
              "      // Send a message to notify the kernel that we're ready.\n",
              "      channel.send({})\n",
              "\n",
              "      for await (const message of channel.messages) {\n",
              "        // Send a message to notify the kernel that we're ready.\n",
              "        channel.send({})\n",
              "        if (message.buffers) {\n",
              "          for (const buffer of message.buffers) {\n",
              "            buffers.push(buffer);\n",
              "            downloaded += buffer.byteLength;\n",
              "            progress.value = downloaded;\n",
              "          }\n",
              "        }\n",
              "      }\n",
              "      const blob = new Blob(buffers, {type: 'application/binary'});\n",
              "      const a = document.createElement('a');\n",
              "      a.href = window.URL.createObjectURL(blob);\n",
              "      a.download = filename;\n",
              "      div.appendChild(a);\n",
              "      a.click();\n",
              "      div.remove();\n",
              "    }\n",
              "  "
            ],
            "text/plain": [
              "<IPython.core.display.Javascript object>"
            ]
          },
          "metadata": {
            "tags": []
          }
        },
        {
          "output_type": "display_data",
          "data": {
            "application/javascript": [
              "download(\"download_a7666759-9410-42ae-b4c1-a5ac7cc71e77\", \"results.avi\", 72291910)"
            ],
            "text/plain": [
              "<IPython.core.display.Javascript object>"
            ]
          },
          "metadata": {
            "tags": []
          }
        }
      ]
    },
    {
      "cell_type": "code",
      "metadata": {
        "id": "VBRo_cXdHFI9"
      },
      "source": [
        ""
      ],
      "execution_count": null,
      "outputs": []
    }
  ]
}